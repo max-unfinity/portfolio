{
 "cells": [
  {
   "cell_type": "code",
   "execution_count": 1,
   "metadata": {
    "nbpresent": {
     "id": "edd3e0e1-701d-488e-a612-fa98b3e3b063"
    }
   },
   "outputs": [
    {
     "name": "stderr",
     "output_type": "stream",
     "text": [
      "Using TensorFlow backend.\n"
     ]
    }
   ],
   "source": [
    "from keras import Model, Input, Sequential, regularizers\n",
    "from keras.layers import Activation, Dense, LSTM, Embedding\n",
    "import numpy as np\n",
    "import pandas as pd\n",
    "from matplotlib import pyplot as plt\n",
    "from sklearn.preprocessing import MinMaxScaler, StandardScaler\n",
    "from sklearn.metrics import r2_score, mean_squared_error\n",
    "from scipy.spatial import distance\n",
    "from sklearn import datasets\n",
    "from keras import backend as K\n",
    "import scipy as sp\n",
    "import sklearn.metrics\n",
    "%matplotlib inline"
   ]
  },
  {
   "cell_type": "code",
   "execution_count": 2,
   "metadata": {
    "nbpresent": {
     "id": "c17c55b8-d2cd-43a9-829a-cafdbdeabe81"
    }
   },
   "outputs": [],
   "source": [
    "dataset = pd.read_csv('data_1/fosagro/data/122-1 P2O5 в концентрате 1 оч.csv', parse_dates=True, index_col='date', )"
   ]
  },
  {
   "cell_type": "code",
   "execution_count": 3,
   "metadata": {
    "nbpresent": {
     "id": "7ff8accd-0f7c-4663-a76c-cf3cee730524"
    }
   },
   "outputs": [],
   "source": [
    "target = '122-1 P2O5 в концентрате 1 оч'"
   ]
  },
  {
   "cell_type": "code",
   "execution_count": 4,
   "metadata": {
    "nbpresent": {
     "id": "6a3edf39-7f89-4a6a-b103-aad7862a01c7"
    }
   },
   "outputs": [],
   "source": [
    "dataset.dropna(inplace=True)"
   ]
  },
  {
   "cell_type": "code",
   "execution_count": 6,
   "metadata": {
    "nbpresent": {
     "id": "86d832a0-10a7-40da-ac82-9b2a7dd05207"
    }
   },
   "outputs": [
    {
     "data": {
      "text/plain": [
       "122-1 P2O5 в концентрате 1 оч    0.231181\n",
       "dtype: float64"
      ]
     },
     "execution_count": 6,
     "metadata": {},
     "output_type": "execute_result"
    }
   ],
   "source": [
    "dataset.std()"
   ]
  },
  {
   "cell_type": "code",
   "execution_count": 2,
   "metadata": {
    "nbpresent": {
     "id": "45d9ff23-916b-47d1-b8ce-4a2d3ad6fa5a"
    }
   },
   "outputs": [],
   "source": [
    "stand = StandardScaler()"
   ]
  },
  {
   "cell_type": "code",
   "execution_count": null,
   "metadata": {
    "nbpresent": {
     "id": "9761466f-1545-4fba-a37e-f861d1fd3d26"
    },
    "scrolled": true
   },
   "outputs": [],
   "source": [
    "stand.fit_transform(pd.DataFrame({'x':x, 'y':y}))[:,1].std()"
   ]
  },
  {
   "cell_type": "code",
   "execution_count": 87,
   "metadata": {
    "nbpresent": {
     "id": "33ee5950-381c-491c-b45b-4829781b4456"
    }
   },
   "outputs": [
    {
     "data": {
      "text/plain": [
       "<matplotlib.collections.PathCollection at 0x7f5848a271d0>"
      ]
     },
     "execution_count": 87,
     "metadata": {},
     "output_type": "execute_result"
    },
    {
     "data": {
      "image/png": "[encoded data removed]",
      "text/plain": [
       "<Figure size 432x288 with 1 Axes>"
      ]
     },
     "metadata": {},
     "output_type": "display_data"
    }
   ],
   "source": [
    "# np.random.seed(1)\n",
    "n = 20\n",
    "outlier_ratio = 0.2\n",
    "\n",
    "x = np.linspace(-100,100,n)\n",
    "y = np.random.normal(0,0.5,size=round(n*(1-outlier_ratio)))\n",
    "y = np.append(y,np.random.normal(0,10,size=round(n*outlier_ratio)))\n",
    "np.random.shuffle(y)\n",
    "# plt.scatter(x,stand.fit_transform(np.abs(y.reshape(-1, 1))), s=2)\n",
    "plt.scatter(x, y)"
   ]
  },
  {
   "cell_type": "code",
   "execution_count": 89,
   "metadata": {
    "nbpresent": {
     "id": "4b5fce37-5730-487d-93b3-335f6ae0e44c"
    }
   },
   "outputs": [],
   "source": [
    "y_pred = y + np.random.normal(0,1.5,size=n)\n",
    "# y_preds = [y + np.random.normal(0,2,size=n) for i in range(n+1)]\n",
    "# plt.scatter(x,stand.fit_transform(np.abs(y_pred.reshape(-1, 1))), s=2)"
   ]
  },
  {
   "cell_type": "code",
   "execution_count": 92,
   "metadata": {
    "nbpresent": {
     "id": "aad3b9f9-a1d6-4e3d-8a11-291c4764b97f"
    }
   },
   "outputs": [],
   "source": [
    "df = pd.DataFrame({'y':y, 'y_pred':y_pred})\n",
    "# df = pd.DataFrame(np.append([y],y_preds, 0))\n",
    "V = df.cov()\n",
    "VI = np.linalg.inv(np.atleast_2d(V))"
   ]
  },
  {
   "cell_type": "code",
   "execution_count": 46,
   "metadata": {
    "nbpresent": {
     "id": "60c63715-675f-4037-8585-7d3ba7ad2faa"
    }
   },
   "outputs": [
    {
     "data": {
      "text/plain": [
       "array(10.33205272)"
      ]
     },
     "execution_count": 46,
     "metadata": {},
     "output_type": "execute_result"
    }
   ],
   "source": [
    "V = np.cov(y)\n",
    "VI = np.linalg.inv(np.atleast_2d(V))\n",
    "V"
   ]
  },
  {
   "cell_type": "code",
   "execution_count": 107,
   "metadata": {
    "nbpresent": {
     "id": "61207c56-8512-4f36-9cb4-7956d60f30a4"
    }
   },
   "outputs": [
    {
     "data": {
      "text/plain": [
       "array([2.52564105, 0.63721404, 1.19073643, 2.32650197, 1.08303644,\n",
       "       0.3994859 , 1.26914421, 1.63382763, 1.5076816 , 0.8365718 ,\n",
       "       1.55052529, 0.87998987, 0.96726018, 0.00429138, 0.62041017,\n",
       "       0.20316753, 1.62951513, 0.74495021, 0.89932178, 1.22962095])"
      ]
     },
     "execution_count": 107,
     "metadata": {},
     "output_type": "execute_result"
    }
   ],
   "source": [
    "results = distance.cdist(np.atleast_2d(df['y']).reshape(-1,1), np.atleast_2d(df['y_pred']).reshape(-1,1), 'mahalanobis', VI=VI)\n",
    "results = np.diag(results)\n",
    "# plt.scatter(x, results[0,:], s=2)\n",
    "results"
   ]
  },
  {
   "cell_type": "code",
   "execution_count": 109,
   "metadata": {
    "nbpresent": {
     "id": "fc792c0d-c22f-4378-a894-d5f87d3ef057"
    }
   },
   "outputs": [
    {
     "ename": "ValueError",
     "evalue": "shapes (20,) and (2,2) not aligned: 20 (dim 0) != 2 (dim 0)",
     "output_type": "error",
     "traceback": [
      "\u001b[0;31m---------------------------------------------------------------------------\u001b[0m",
      "\u001b[0;31mValueError\u001b[0m                                Traceback (most recent call last)",
      "\u001b[0;32m<ipython-input-109-7793511bf099>\u001b[0m in \u001b[0;36m<module>\u001b[0;34m()\u001b[0m\n\u001b[0;32m----> 1\u001b[0;31m \u001b[0mdistance\u001b[0m\u001b[0;34m.\u001b[0m\u001b[0mmahalanobis\u001b[0m\u001b[0;34m(\u001b[0m\u001b[0mdf\u001b[0m\u001b[0;34m[\u001b[0m\u001b[0;34m'y'\u001b[0m\u001b[0;34m]\u001b[0m\u001b[0;34m.\u001b[0m\u001b[0miloc\u001b[0m\u001b[0;34m[\u001b[0m\u001b[0;34m:\u001b[0m\u001b[0;34m]\u001b[0m\u001b[0;34m,\u001b[0m \u001b[0mdf\u001b[0m\u001b[0;34m[\u001b[0m\u001b[0;34m'y_pred'\u001b[0m\u001b[0;34m]\u001b[0m\u001b[0;34m.\u001b[0m\u001b[0miloc\u001b[0m\u001b[0;34m[\u001b[0m\u001b[0;34m:\u001b[0m\u001b[0;34m]\u001b[0m\u001b[0;34m,\u001b[0m \u001b[0mVI\u001b[0m\u001b[0;34m)\u001b[0m\u001b[0;34m\u001b[0m\u001b[0m\n\u001b[0m",
      "\u001b[0;32m/opt/miniconda3/lib/python3.6/site-packages/scipy/spatial/distance.py\u001b[0m in \u001b[0;36mmahalanobis\u001b[0;34m(u, v, VI)\u001b[0m\n\u001b[1;32m   1041\u001b[0m     \u001b[0mVI\u001b[0m \u001b[0;34m=\u001b[0m \u001b[0mnp\u001b[0m\u001b[0;34m.\u001b[0m\u001b[0matleast_2d\u001b[0m\u001b[0;34m(\u001b[0m\u001b[0mVI\u001b[0m\u001b[0;34m)\u001b[0m\u001b[0;34m\u001b[0m\u001b[0m\n\u001b[1;32m   1042\u001b[0m     \u001b[0mdelta\u001b[0m \u001b[0;34m=\u001b[0m \u001b[0mu\u001b[0m \u001b[0;34m-\u001b[0m \u001b[0mv\u001b[0m\u001b[0;34m\u001b[0m\u001b[0m\n\u001b[0;32m-> 1043\u001b[0;31m     \u001b[0mm\u001b[0m \u001b[0;34m=\u001b[0m \u001b[0mnp\u001b[0m\u001b[0;34m.\u001b[0m\u001b[0mdot\u001b[0m\u001b[0;34m(\u001b[0m\u001b[0mnp\u001b[0m\u001b[0;34m.\u001b[0m\u001b[0mdot\u001b[0m\u001b[0;34m(\u001b[0m\u001b[0mdelta\u001b[0m\u001b[0;34m,\u001b[0m \u001b[0mVI\u001b[0m\u001b[0;34m)\u001b[0m\u001b[0;34m,\u001b[0m \u001b[0mdelta\u001b[0m\u001b[0;34m)\u001b[0m\u001b[0;34m\u001b[0m\u001b[0m\n\u001b[0m\u001b[1;32m   1044\u001b[0m     \u001b[0;32mreturn\u001b[0m \u001b[0mnp\u001b[0m\u001b[0;34m.\u001b[0m\u001b[0msqrt\u001b[0m\u001b[0;34m(\u001b[0m\u001b[0mm\u001b[0m\u001b[0;34m)\u001b[0m\u001b[0;34m\u001b[0m\u001b[0m\n\u001b[1;32m   1045\u001b[0m \u001b[0;34m\u001b[0m\u001b[0m\n",
      "\u001b[0;31mValueError\u001b[0m: shapes (20,) and (2,2) not aligned: 20 (dim 0) != 2 (dim 0)"
     ]
    }
   ],
   "source": [
    "distance.mahalanobis(df['y'].iloc[:], df['y_pred'].iloc[:], VI)"
   ]
  },
  {
   "cell_type": "code",
   "execution_count": 72,
   "metadata": {
    "nbpresent": {
     "id": "014f9577-c900-48aa-8dd6-c970932e1805"
    }
   },
   "outputs": [
    {
     "data": {
      "text/plain": [
       "6.374765230267206"
      ]
     },
     "execution_count": 72,
     "metadata": {},
     "output_type": "execute_result"
    }
   ],
   "source": [
    "mean_squared_error(df.iloc[0], df.iloc[1])"
   ]
  },
  {
   "cell_type": "code",
   "execution_count": 83,
   "metadata": {
    "nbpresent": {
     "id": "0086d26f-7ddf-45da-b339-03ea25e27e16"
    }
   },
   "outputs": [
    {
     "data": {
      "text/plain": [
       "2.0449506671562547"
      ]
     },
     "execution_count": 83,
     "metadata": {},
     "output_type": "execute_result"
    }
   ],
   "source": [
    "sklearn.metrics.mean_absolute_error(df.iloc[0], df.iloc[1])"
   ]
  },
  {
   "cell_type": "code",
   "execution_count": 80,
   "metadata": {
    "nbpresent": {
     "id": "bf200f43-7965-4619-b777-a3a29f945db9"
    }
   },
   "outputs": [
    {
     "data": {
      "text/plain": [
       "<matplotlib.collections.PathCollection at 0x7f5848adc438>"
      ]
     },
     "execution_count": 80,
     "metadata": {},
     "output_type": "execute_result"
    },
    {
     "data": {
      "image/png": "[encoded data removed]",
      "text/plain": [
       "<Figure size 432x288 with 1 Axes>"
      ]
     },
     "metadata": {},
     "output_type": "display_data"
    }
   ],
   "source": [
    "plt.scatter(x, df.iloc[0])\n",
    "plt.scatter(x, df.iloc[1])"
   ]
  },
  {
   "cell_type": "markdown",
   "metadata": {
    "nbpresent": {
     "id": "09689b12-aefb-40d0-8ff4-64a1c48cb1ff"
    }
   },
   "source": [
    "# Research"
   ]
  },
  {
   "cell_type": "code",
   "execution_count": 834,
   "metadata": {
    "nbpresent": {
     "id": "3307f768-eb69-452d-b9e7-63e5bfc00676"
    }
   },
   "outputs": [
    {
     "data": {
      "text/plain": [
       "3.7121906507791023"
      ]
     },
     "execution_count": 834,
     "metadata": {},
     "output_type": "execute_result"
    }
   ],
   "source": [
    "# np.random.seed(2)\n",
    "shape = (10,)\n",
    "\n",
    "x = np.random.randint(0,50,shape)\n",
    "y = np.random.randint(20,50,shape)\n",
    "z = np.random.randint(0,50,shape)\n",
    "\n",
    "# x = np.append(x,[[5]],0)\n",
    "# y = np.append(y,[[5]],0)\n",
    "\n",
    "\n",
    "df = pd.DataFrame({'x':x})\n",
    "V = df.cov()\n",
    "VI = np.linalg.inv(V)\n",
    "\n",
    "# delta = x-y\n",
    "# np.dot(delta, VI)\n",
    "# m = np.dot(np.dot(delta, VI), delta)\n",
    "\n",
    "\n",
    "# # results = np.diag(results)\n",
    "# print (results)"
   ]
  },
  {
   "cell_type": "code",
   "execution_count": 856,
   "metadata": {
    "nbpresent": {
     "id": "af6cd403-de95-43b7-bb2b-97b7393ee343"
    }
   },
   "outputs": [
    {
     "data": {
      "text/plain": [
       "1.9267046091134734"
      ]
     },
     "execution_count": 856,
     "metadata": {},
     "output_type": "execute_result"
    }
   ],
   "source": [
    "distance.mahalanobis(np.array(df.iloc[0]), np.array(df.iloc[1]), VI)"
   ]
  },
  {
   "cell_type": "code",
   "execution_count": 871,
   "metadata": {
    "nbpresent": {
     "id": "1b1f957a-03d7-4794-bd6d-e884e979ccf6"
    }
   },
   "outputs": [
    {
     "data": {
      "text/plain": [
       "array([[ 0.        ,  8.35849001,  1.95031433, 10.86603701,  1.11446533,\n",
       "         1.11446533,  0.835849  ,  6.686792  ,  1.11446533,  4.73647767],\n",
       "       [ 8.35849001,  0.        ,  6.40817567,  2.507547  ,  9.47295534,\n",
       "         9.47295534,  9.19433901,  1.671698  ,  7.24402467,  3.62201234],\n",
       "       [ 1.95031433,  6.40817567,  0.        ,  8.91572267,  3.06477967,\n",
       "         3.06477967,  2.78616334,  4.73647767,  0.835849  ,  2.78616334],\n",
       "       [10.86603701,  2.507547  ,  8.91572267,  0.        , 11.98050234,\n",
       "        11.98050234, 11.70188601,  4.179245  ,  9.75157167,  6.12955934],\n",
       "       [ 1.11446533,  9.47295534,  3.06477967, 11.98050234,  0.        ,\n",
       "         0.        ,  0.27861633,  7.80125734,  2.22893067,  5.850943  ],\n",
       "       [ 1.11446533,  9.47295534,  3.06477967, 11.98050234,  0.        ,\n",
       "         0.        ,  0.27861633,  7.80125734,  2.22893067,  5.850943  ],\n",
       "       [ 0.835849  ,  9.19433901,  2.78616334, 11.70188601,  0.27861633,\n",
       "         0.27861633,  0.        ,  7.52264101,  1.95031433,  5.57232667],\n",
       "       [ 6.686792  ,  1.671698  ,  4.73647767,  4.179245  ,  7.80125734,\n",
       "         7.80125734,  7.52264101,  0.        ,  5.57232667,  1.95031433],\n",
       "       [ 1.11446533,  7.24402467,  0.835849  ,  9.75157167,  2.22893067,\n",
       "         2.22893067,  1.95031433,  5.57232667,  0.        ,  3.62201234],\n",
       "       [ 4.73647767,  3.62201234,  2.78616334,  6.12955934,  5.850943  ,\n",
       "         5.850943  ,  5.57232667,  1.95031433,  3.62201234,  0.        ]])"
      ]
     },
     "execution_count": 871,
     "metadata": {},
     "output_type": "execute_result"
    }
   ],
   "source": [
    "results = distance.cdist(df, df,'mahalanobis', VI=VI)\n",
    "results"
   ]
  },
  {
   "cell_type": "code",
   "execution_count": 532,
   "metadata": {
    "nbpresent": {
     "id": "941db912-67fc-491a-8536-31465694697e"
    }
   },
   "outputs": [],
   "source": [
    "def cov(a, b):\n",
    "    a_mean = np.mean(a)\n",
    "    b_mean = np.mean(b)\n",
    "    \n",
    "    sum_ = ((a - a_mean) * (b - b_mean)).sum()\n",
    "\n",
    "    return sum_/(len(a)-1)"
   ]
  },
  {
   "cell_type": "code",
   "execution_count": 346,
   "metadata": {
    "nbpresent": {
     "id": "f0d86ae6-0909-4d6c-a00e-b3ca169cf8a1"
    }
   },
   "outputs": [
    {
     "data": {
      "text/plain": [
       "array([2.28765854, 2.75165028, 2.75165028, 2.75165028, 0.        ,\n",
       "       2.75165028, 2.75165028, 2.75165028, 2.75165028, 0.        ,\n",
       "       0.        , 0.        , 0.        , 0.        , 0.        ])"
      ]
     },
     "execution_count": 346,
     "metadata": {},
     "output_type": "execute_result"
    }
   ],
   "source": [
    "x = np.array([[[1,2,3,4,5],\n",
    "               [5,6,7,8,5],\n",
    "               [5,6,7,8,5]],\n",
    "              [[11,22,23,24,5],\n",
    "               [25,26,27,28,5],\n",
    "               [5,6,7,8,5]]])\n",
    "i,j,k = x.shape\n",
    "\n",
    "xx = x.reshape(i,j*k).T\n",
    "\n",
    "\n",
    "y = np.array([[[31,32,33,34,5],\n",
    "               [35,36,37,38,5],\n",
    "               [5,6,7,8,5]],\n",
    "              [[41,42,43,44,5],\n",
    "               [45,46,47,48,5],\n",
    "               [5,6,7,8,5]]])\n",
    "\n",
    "\n",
    "yy = y.reshape(i,j*k).T\n",
    "\n",
    "results =  distance.cdist(xx,yy,'mahalanobis')\n",
    "results = np.diag(results)\n",
    "results"
   ]
  },
  {
   "cell_type": "code",
   "execution_count": null,
   "metadata": {
    "nbpresent": {
     "id": "0ae9ff94-0111-4691-a458-17a3a70a92e3"
    }
   },
   "outputs": [],
   "source": [
    "X = np.vstack([xx,yy])\n",
    "V = np.cov(X.T)\n",
    "VI = np.linalg.inv(V)\n",
    "delta = x - y\n",
    "np.diag(np.sqrt(np.dot(np.dot(delta,VI),delta.T)))"
   ]
  },
  {
   "cell_type": "markdown",
   "metadata": {},
   "source": [
    "## Показ"
   ]
  },
  {
   "cell_type": "code",
   "execution_count": 19,
   "metadata": {},
   "outputs": [],
   "source": [
    "def scale_ax(ax):\n",
    "    xlim = np.array(ax.get_xlim())\n",
    "    ylim = np.array(ax.get_ylim())\n",
    "    \n",
    "    c = max(abs(xlim[0]-xlim[1]), abs(ylim[0]-ylim[1]))/2\n",
    "    ax.set_xlim((xlim.mean()-c, xlim.mean()+c))\n",
    "    ax.set_ylim((ylim.mean()-c, ylim.mean()+c))\n",
    "    return ax"
   ]
  },
  {
   "cell_type": "code",
   "execution_count": 4,
   "metadata": {},
   "outputs": [
    {
     "data": {
      "text/html": [
       "<div>\n",
       "<style scoped>\n",
       "    .dataframe tbody tr th:only-of-type {\n",
       "        vertical-align: middle;\n",
       "    }\n",
       "\n",
       "    .dataframe tbody tr th {\n",
       "        vertical-align: top;\n",
       "    }\n",
       "\n",
       "    .dataframe thead th {\n",
       "        text-align: right;\n",
       "    }\n",
       "</style>\n",
       "<table border=\"1\" class=\"dataframe\">\n",
       "  <thead>\n",
       "    <tr style=\"text-align: right;\">\n",
       "      <th></th>\n",
       "      <th>Высота</th>\n",
       "      <th>Температура</th>\n",
       "    </tr>\n",
       "  </thead>\n",
       "  <tbody>\n",
       "    <tr>\n",
       "      <th>0</th>\n",
       "      <td>197.545360</td>\n",
       "      <td>5.052385</td>\n",
       "    </tr>\n",
       "    <tr>\n",
       "      <th>1</th>\n",
       "      <td>184.444329</td>\n",
       "      <td>17.394505</td>\n",
       "    </tr>\n",
       "    <tr>\n",
       "      <th>2</th>\n",
       "      <td>184.483221</td>\n",
       "      <td>14.532042</td>\n",
       "    </tr>\n",
       "    <tr>\n",
       "      <th>3</th>\n",
       "      <td>194.415242</td>\n",
       "      <td>7.971837</td>\n",
       "    </tr>\n",
       "    <tr>\n",
       "      <th>4</th>\n",
       "      <td>188.322800</td>\n",
       "      <td>11.560915</td>\n",
       "    </tr>\n",
       "  </tbody>\n",
       "</table>\n",
       "</div>"
      ],
      "text/plain": [
       "       Высота  Температура\n",
       "0  197.545360     5.052385\n",
       "1  184.444329    17.394505\n",
       "2  184.483221    14.532042\n",
       "3  194.415242     7.971837\n",
       "4  188.322800    11.560915"
      ]
     },
     "execution_count": 4,
     "metadata": {},
     "output_type": "execute_result"
    }
   ],
   "source": [
    "n = 5000\n",
    "x = np.random.normal(10,4,n)\n",
    "y = np.random.normal(200,1.5,n)-x\n",
    "df = pd.DataFrame({'Высота':y, 'Температура':x})\n",
    "df.head()"
   ]
  },
  {
   "cell_type": "code",
   "execution_count": 5,
   "metadata": {},
   "outputs": [
    {
     "data": {
      "text/html": [
       "<div>\n",
       "<style scoped>\n",
       "    .dataframe tbody tr th:only-of-type {\n",
       "        vertical-align: middle;\n",
       "    }\n",
       "\n",
       "    .dataframe tbody tr th {\n",
       "        vertical-align: top;\n",
       "    }\n",
       "\n",
       "    .dataframe thead th {\n",
       "        text-align: right;\n",
       "    }\n",
       "</style>\n",
       "<table border=\"1\" class=\"dataframe\">\n",
       "  <thead>\n",
       "    <tr style=\"text-align: right;\">\n",
       "      <th></th>\n",
       "      <th>Высота</th>\n",
       "      <th>Температура</th>\n",
       "    </tr>\n",
       "  </thead>\n",
       "  <tbody>\n",
       "    <tr>\n",
       "      <th>Высота</th>\n",
       "      <td>1.00000</td>\n",
       "      <td>-0.93806</td>\n",
       "    </tr>\n",
       "    <tr>\n",
       "      <th>Температура</th>\n",
       "      <td>-0.93806</td>\n",
       "      <td>1.00000</td>\n",
       "    </tr>\n",
       "  </tbody>\n",
       "</table>\n",
       "</div>"
      ],
      "text/plain": [
       "              Высота  Температура\n",
       "Высота       1.00000     -0.93806\n",
       "Температура -0.93806      1.00000"
      ]
     },
     "execution_count": 5,
     "metadata": {},
     "output_type": "execute_result"
    }
   ],
   "source": [
    "df.corr()"
   ]
  },
  {
   "cell_type": "code",
   "execution_count": 6,
   "metadata": {},
   "outputs": [
    {
     "data": {
      "text/plain": [
       "<matplotlib.axes._subplots.AxesSubplot at 0x7f03979d4f98>"
      ]
     },
     "execution_count": 6,
     "metadata": {},
     "output_type": "execute_result"
    },
    {
     "data": {
      "image/png": "[encoded data removed]",
      "text/plain": [
       "<Figure size 432x288 with 1 Axes>"
      ]
     },
     "metadata": {},
     "output_type": "display_data"
    }
   ],
   "source": [
    "df.plot('Высота', 'Температура', 'scatter', s=2)"
   ]
  },
  {
   "cell_type": "markdown",
   "metadata": {},
   "source": [
    "## Добавим выброс"
   ]
  },
  {
   "cell_type": "code",
   "execution_count": 62,
   "metadata": {},
   "outputs": [],
   "source": [
    "mean = [df['Высота'].mean(), df['Температура'].mean()]"
   ]
  },
  {
   "cell_type": "code",
   "execution_count": 72,
   "metadata": {},
   "outputs": [],
   "source": [
    "outlier = [192, 14]"
   ]
  },
  {
   "cell_type": "code",
   "execution_count": 73,
   "metadata": {},
   "outputs": [
    {
     "data": {
      "text/plain": [
       "4.488370097108553"
      ]
     },
     "execution_count": 73,
     "metadata": {},
     "output_type": "execute_result"
    }
   ],
   "source": [
    "# Посчитаем Евклидово расстояние от выброса до центра\n",
    "\n",
    "euc_dist_outlier = distance.euclidean(outlier, mean)\n",
    "euc_dist_outlier"
   ]
  },
  {
   "cell_type": "code",
   "execution_count": 86,
   "metadata": {},
   "outputs": [
    {
     "data": {
      "text/html": [
       "<div>\n",
       "<style scoped>\n",
       "    .dataframe tbody tr th:only-of-type {\n",
       "        vertical-align: middle;\n",
       "    }\n",
       "\n",
       "    .dataframe tbody tr th {\n",
       "        vertical-align: top;\n",
       "    }\n",
       "\n",
       "    .dataframe thead th {\n",
       "        text-align: right;\n",
       "    }\n",
       "</style>\n",
       "<table border=\"1\" class=\"dataframe\">\n",
       "  <thead>\n",
       "    <tr style=\"text-align: right;\">\n",
       "      <th></th>\n",
       "      <th>Высота</th>\n",
       "      <th>Температура</th>\n",
       "    </tr>\n",
       "  </thead>\n",
       "  <tbody>\n",
       "    <tr>\n",
       "      <th>1709</th>\n",
       "      <td>186.997478</td>\n",
       "      <td>13.282776</td>\n",
       "    </tr>\n",
       "  </tbody>\n",
       "</table>\n",
       "</div>"
      ],
      "text/plain": [
       "          Высота  Температура\n",
       "1709  186.997478    13.282776"
      ]
     },
     "execution_count": 86,
     "metadata": {},
     "output_type": "execute_result"
    }
   ],
   "source": [
    "# Найдем точку из датасета с таким же расстоянием до центра\n",
    "dists = abs(distance.cdist([mean], df).flatten() - euc_dist_outlier)\n",
    "point_idx = pd.DataFrame(dists).sort_values(0).index[0]\n",
    "point = df.loc[[point_idx]]\n",
    "point"
   ]
  },
  {
   "cell_type": "code",
   "execution_count": 87,
   "metadata": {
    "scrolled": false
   },
   "outputs": [
    {
     "data": {
      "text/plain": [
       "<matplotlib.axes._subplots.AxesSubplot at 0x7f0387b99198>"
      ]
     },
     "execution_count": 87,
     "metadata": {},
     "output_type": "execute_result"
    },
    {
     "data": {
      "image/png": "[encoded data removed]",
      "text/plain": [
       "<Figure size 648x432 with 1 Axes>"
      ]
     },
     "metadata": {},
     "output_type": "display_data"
    }
   ],
   "source": [
    "fig, ax = plt.subplots(1,1, figsize=(9,6))\n",
    "df.plot('Высота', 'Температура', 'scatter', s=3, ax=ax)\n",
    "ax.scatter(mean[0], mean[1], s=60, c='C1', marker='+')\n",
    "ax.scatter(df['Высота'].loc[point_idx], df['Температура'].loc[point_idx], s=60, c='C3', marker='x')\n",
    "ax.scatter(outlier[0], outlier[1], s=60, c='C3', marker='x')\n",
    "scale_plot(ax)\n",
    "\n",
    "# ax.set_xlim(188,198)\n",
    "# fig.savefig('mahal_1')"
   ]
  },
  {
   "cell_type": "code",
   "execution_count": 89,
   "metadata": {},
   "outputs": [
    {
     "name": "stdout",
     "output_type": "stream",
     "text": [
      "4.139073327019308\n"
     ]
    },
    {
     "data": {
      "text/plain": [
       "0.8391891304573429"
      ]
     },
     "execution_count": 89,
     "metadata": {},
     "output_type": "execute_result"
    }
   ],
   "source": [
    "# Посчитаем расстояние Махаланобиса от выброса до центра\n",
    "V = df.cov()\n",
    "VI = np.linalg.inv(V)\n",
    "\n",
    "mal_dist_outlier = distance.mahalanobis(outlier, mean, VI)\n",
    "print(mal_dist_outlier)\n",
    "mal_dist_point = distance.mahalanobis(point, mean, VI)\n",
    "mal_dist_point"
   ]
  },
  {
   "cell_type": "code",
   "execution_count": 146,
   "metadata": {},
   "outputs": [],
   "source": [
    "dists_mal = abs(distance.cdist(df, [mean], 'mahalanobis', VI)-mal_dist_outlier)\n",
    "dists_mal = pd.DataFrame(dists_mal).sort_values(0)\n",
    "radius_mal_1 = df.loc[dists_mal.iloc[:40].index]"
   ]
  },
  {
   "cell_type": "code",
   "execution_count": 147,
   "metadata": {},
   "outputs": [],
   "source": [
    "dists_mal_2 = abs(distance.cdist(df, [mean], 'mahalanobis', VI)-mal_dist_point)\n",
    "dists_mal_2 = pd.DataFrame(dists_mal_2).sort_values(0)\n",
    "radius_mal_2 = df.loc[dists_mal_2.iloc[:40].index]"
   ]
  },
  {
   "cell_type": "code",
   "execution_count": 169,
   "metadata": {},
   "outputs": [
    {
     "data": {
      "text/plain": [
       "<matplotlib.axes._subplots.AxesSubplot at 0x7f0384fea1d0>"
      ]
     },
     "execution_count": 169,
     "metadata": {},
     "output_type": "execute_result"
    },
    {
     "data": {
      "image/png": "[encoded data removed]",
      "text/plain": [
       "<Figure size 648x432 with 1 Axes>"
      ]
     },
     "metadata": {},
     "output_type": "display_data"
    }
   ],
   "source": [
    "fig, ax = plt.subplots(1,1, figsize=(9,6))\n",
    "\n",
    "df.plot('Высота', 'Температура', 'scatter', s=3, ax=ax)\n",
    "\n",
    "ax.scatter(radius_mal_1['Высота'], radius_mal_1['Температура'], c='C1', s=20, marker='s')\n",
    "ax.scatter(radius_mal_2['Высота'], radius_mal_2['Температура'], c=(0.5,0.2,0.2), s=20, marker='s')\n",
    "\n",
    "ax.scatter(mean[0], mean[1], s=60, c='C1', marker='+')\n",
    "ax.scatter(df['Высота'].loc[point_idx], df['Температура'].loc[point_idx], s=60, c='C3', marker='x')\n",
    "ax.scatter(outlier[0], outlier[1], s=60, c='C3', marker='x')\n",
    "\n",
    "scale_plot(ax)"
   ]
  }
 ],
 "metadata": {
  "kernelspec": {
   "display_name": "Python 3",
   "language": "python",
   "name": "python3"
  },
  "language_info": {
   "codemirror_mode": {
    "name": "ipython",
    "version": 3
   },
   "file_extension": ".py",
   "mimetype": "text/x-python",
   "name": "python",
   "nbconvert_exporter": "python",
   "pygments_lexer": "ipython3",
   "version": "3.6.3"
  },
  "nbpresent": {
   "slides": {},
   "themes": {
    "default": "6e7628e8-c628-43ec-b851-78a33a7d2058",
    "theme": {}
   }
  }
 },
 "nbformat": 4,
 "nbformat_minor": 2
}
